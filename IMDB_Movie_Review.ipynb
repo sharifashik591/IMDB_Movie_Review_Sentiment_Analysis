{
  "nbformat": 4,
  "nbformat_minor": 0,
  "metadata": {
    "colab": {
      "name": "IMDB Movie Review.ipynb",
      "private_outputs": true,
      "provenance": []
    },
    "kernelspec": {
      "name": "python3",
      "display_name": "Python 3"
    },
    "language_info": {
      "name": "python"
    },
    "accelerator": "GPU"
  },
  "cells": [
    {
      "cell_type": "markdown",
      "metadata": {
        "id": "RXNxFHD1OWxy"
      },
      "source": [
        "import Library"
      ]
    },
    {
      "cell_type": "code",
      "metadata": {
        "id": "uxsnRxbrOYa_"
      },
      "source": [
        "import pandas as pd\n",
        "path='/content/drive/MyDrive/Dataset/IMDB Dataset.csv'\n",
        "df=pd.read_csv(path)"
      ],
      "execution_count": null,
      "outputs": []
    },
    {
      "cell_type": "code",
      "metadata": {
        "id": "U1T0693wOa_R"
      },
      "source": [
        "df.head()"
      ],
      "execution_count": null,
      "outputs": []
    },
    {
      "cell_type": "code",
      "metadata": {
        "id": "SEG-3KyoRZEJ"
      },
      "source": [
        "df.info()"
      ],
      "execution_count": null,
      "outputs": []
    },
    {
      "cell_type": "code",
      "metadata": {
        "id": "mUIan3gsP2rH"
      },
      "source": [
        "import nltk\n",
        "nltk.download('stopwords')"
      ],
      "execution_count": null,
      "outputs": []
    },
    {
      "cell_type": "code",
      "metadata": {
        "id": "K_wfkGZSRCdu"
      },
      "source": [
        "from sklearn.feature_extraction.text import TfidfVectorizer\n",
        "tfidf=TfidfVectorizer(use_idf=True, norm='l2',smooth_idf=True)"
      ],
      "execution_count": null,
      "outputs": []
    },
    {
      "cell_type": "code",
      "metadata": {
        "id": "fBmtBUNtSGHd"
      },
      "source": [
        "x=tfidf.fit_transform(df['review'].values.astype('U'))\n",
        "y=df.sentiment"
      ],
      "execution_count": null,
      "outputs": []
    },
    {
      "cell_type": "code",
      "metadata": {
        "id": "5ZwaysamSsQd"
      },
      "source": [
        "from sklearn.model_selection import train_test_split"
      ],
      "execution_count": null,
      "outputs": []
    },
    {
      "cell_type": "code",
      "metadata": {
        "id": "0cdZY5Z7TF-u"
      },
      "source": [
        "x_train,x_test,y_train,y_test= train_test_split(x,y,test_size=0.3 ,random_state=101,shuffle=False)\n"
      ],
      "execution_count": null,
      "outputs": []
    },
    {
      "cell_type": "code",
      "metadata": {
        "id": "H3tTg9WjTheN"
      },
      "source": [
        "from sklearn.linear_model import LogisticRegressionCV\n",
        "clf=LogisticRegressionCV(\n",
        "    cv=5,\n",
        "    scoring='accuracy',\n",
        "    random_state=0,\n",
        "    n_jobs=-1,\n",
        "    verbose=3,\n",
        "    max_iter=300\n",
        ")\n",
        "clf=clf.fit(x_train,y_train)"
      ],
      "execution_count": null,
      "outputs": []
    },
    {
      "cell_type": "code",
      "metadata": {
        "id": "x2w0JTs6T9m9"
      },
      "source": [
        "import pickle\n",
        "save_model=open('save_model.sav','wb')\n",
        "pickle.dump(clf,save_model)\n",
        "save_model.close()"
      ],
      "execution_count": null,
      "outputs": []
    },
    {
      "cell_type": "code",
      "metadata": {
        "id": "Y_C0mwKOVNWo"
      },
      "source": [
        "filename='save_model.sav'\n",
        "saved_clf=pickle.load(open(filename,'rb'))\n",
        "saved_clf.score(x_test,y_test)\n"
      ],
      "execution_count": null,
      "outputs": []
    },
    {
      "cell_type": "code",
      "metadata": {
        "id": "L12XK0WBVv49"
      },
      "source": [
        ""
      ],
      "execution_count": null,
      "outputs": []
    }
  ]
}